{
 "cells": [
  {
   "cell_type": "markdown",
   "id": "afbd4fee",
   "metadata": {},
   "source": [
    "# Data Handling\n",
    "\n",
    "Data is among the most valuable assets in the world today. Everything from intellectual property to guest WiFi networks should be protected with a combination of technical, operational, and managerial controls. Implementing the principle of least privilege is essential to protect information privacy.\n",
    "\n",
    "## Activity\n",
    "\n",
    "### Scenario\n",
    "\n",
    "Consider an educational technology company that developed an application to help teachers automatically grade assignments. The application handles a wide range of data that it collects from academic institutions, instructors, parents, and students.\n",
    "\n",
    "My cybersecurity team was alerted to a data leak of internal business plans on social media. An investigation was carried out to discover that an employee accidentally shared those confidential documents with an external business partner. An audit into the leak is underway to determine how similar incidents can be avoided.\n",
    "\n",
    "A supervisor provided me with information regarding the leak. It appears that the principle of least privilege was not observed by employees at the company during a sales meeting. \n",
    "\n",
    "## Task\n",
    "\n",
    "I have been asked to analyze the situation and find ways to prevent it from happening again. First, I'll need to evaluate details about the incident. Then, I'll review the controls in place to prevent data leaks. Next, I'll identify ways to improve information privacy at the company. Finally, I'll justify how my recommendations will make data handling at the company more secure."
   ]
  },
  {
   "cell_type": "markdown",
   "id": "e5a37b57",
   "metadata": {},
   "source": [
    "---\n",
    "\n",
    "## Supervisor's Incident Summary\n",
    "\n",
    "A customer success representative received access to a folder of internal documents from a manager. It contained files associated with a new product offering, including customer analytics and marketing materials. The manager forgot to unshare the folder. Later, the representative copied a link to the marketing materials to share with a business partner during a sales call. Instead, the representative shared a link to the entire folder. During the sales call, the business partner received the link to internal documents and posted it to their social media page."
   ]
  },
  {
   "cell_type": "markdown",
   "id": "864b59da",
   "metadata": {},
   "source": [
    "---\n",
    "\n",
    "Data leaks are a major risk due to the amount of data handled by the application. The company used the NIST Cybersecurity Framework (CSF) to develop their plan for addressing their information privacy concerns. \n",
    "\n",
    "## Data Leak Worksheet\n",
    "\n",
    "![data_leak1](data_leak1.png)\n",
    "![data_leak2](data_leak2.png)\n",
    "![data_leak3](data_leak3.png)\n",
    "\n"
   ]
  }
 ],
 "metadata": {
  "language_info": {
   "name": "python"
  }
 },
 "nbformat": 4,
 "nbformat_minor": 5
}
