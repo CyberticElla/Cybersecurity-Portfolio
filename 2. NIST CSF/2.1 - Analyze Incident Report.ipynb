{
 "cells": [
  {
   "cell_type": "markdown",
   "id": "997e52fd",
   "metadata": {},
   "source": [
    "# NIST CyberSecurity Framework (CSF)\n",
    "\n",
    "The NIST CSF is a voluntary framework that consists of standards, guidelines, and best practices to manage cybersecurity risks. Creating a quality cybersecurity incident report and applying the CSF demonstrates a proactive approach to security, improving communication and transparency with stakeholders, and improve security practices within an organization.\n",
    "\n",
    "## Activity\n",
    "\n",
    "### Scenario\n",
    "\n",
    "In this activity, I work as a cybersecurity analyst for a multimedia company that offers web design services, graphic design, and social media marketing solutions to small businesses. My organization recently experienced a DDoS attack which compromised the internal network for two hours until it was resolved.\n",
    "\n",
    "During the attack, network services suddenly stopped responding due to an incoming flood of ICMP packets. Normal internal network traffic could not access any network resources. The incident management team responded by blocking incoming ICMP packets, stopping all non-critical network services offline, and restoring critical network services.\n",
    "\n",
    "Our team then investigated the security event and found that a malicious actor had sent a flood of ICMP pings into the company’s network through an unconfigured firewall. This vulnerability allowed the malicious attacker to overwhelm the company’s network through a distributed denial of service (DDoS) attack.\n",
    "\n",
    "To address this security event, the network security team implemented:\n",
    "\n",
    "- A new firewall rule to limit the rate of incoming ICMP packets\n",
    "\n",
    "- Source IP address verification on the firewall to check for spoofed IP addresses on incoming ICMP packets\n",
    "\n",
    "- Network monitoring software to detect abnormal traffic patterns\n",
    "\n",
    "- An IDS/IPS system to filter out some ICMP traffic based on suspicious characteristics"
   ]
  },
  {
   "cell_type": "markdown",
   "id": "8e656fff",
   "metadata": {},
   "source": [
    "### Task\n",
    "\n",
    "As a cybersecurity analyst, I am tasked with using this security event to create a plan to improve my company’s network security, following the National Institute of Standards and Technology (NIST) Cybersecurity Framework (CSF) to help navigate through the different steps of analyzing this cybersecurity event and integrating my analysis into a general security strategy."
   ]
  },
  {
   "cell_type": "markdown",
   "id": "fbffe776",
   "metadata": {},
   "source": [
    "---\n",
    "\n",
    "## Following the guideline outlined by the NIST Cybersecurity Framework:\n",
    "\n",
    "- Identify security risks through regular audits of internal networks, systems, devices, and access privileges to identify potential gaps in security.\n",
    "\n",
    "- Protect internal assets through the implementation of policies, procedures, training and tools that help mitigate cybersecurity threats.\n",
    "\n",
    "- Detect potential security incidents and improve monitoring capabilities to increase the speed and efficiency of detections.\n",
    "\n",
    "- Respond to contain, neutralize, and analyze security incidents; implement improvements to the security process.\n",
    "\n",
    "- Recover affected systems to normal operation and restore systems data and/or assets that have been affected by an incident.\n",
    "\n"
   ]
  },
  {
   "cell_type": "markdown",
   "id": "1153dd07",
   "metadata": {},
   "source": [
    "\n",
    "## Incident Report Analysis\n",
    "\n",
    "![report1img](report1.png)\n",
    "![report2img](report2.png)\n"
   ]
  }
 ],
 "metadata": {
  "kernelspec": {
   "display_name": "Python 3",
   "language": "python",
   "name": "python3"
  },
  "language_info": {
   "codemirror_mode": {
    "name": "ipython",
    "version": 3
   },
   "file_extension": ".py",
   "mimetype": "text/x-python",
   "name": "python",
   "nbconvert_exporter": "python",
   "pygments_lexer": "ipython3",
   "version": "3.13.3"
  }
 },
 "nbformat": 4,
 "nbformat_minor": 5
}
