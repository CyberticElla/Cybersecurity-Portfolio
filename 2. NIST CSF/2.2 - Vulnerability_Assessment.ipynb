{
 "cells": [
  {
   "cell_type": "markdown",
   "id": "d8c84fb4",
   "metadata": {},
   "source": [
    "# Vulnerability Assessment for a small business\n",
    "\n",
    "A vulnerability is a weakness that can be exploited by a threat. Vulnerability Assessment refers to the internal review process of an organization's security systems, used to design defense strategies based on system weaknesses. The next step of the process is vulnerability analysis. During this step, each of the vulnerabilities that were identified are tested. The goal of vulnerability analysis is to find the source of the problem.\n",
    "\n",
    "## Activity\n",
    "\n",
    "### Scenario\n",
    "\n",
    "Consider an e-commerce company which stores information on a remote database server since many of the employees work remotely from locations all around the world. Employees of the company regularly query or request data from the server to find potential customers. The database has been open to the public since the company's launch three years ago. As a cybersecurity professional, I recognize that keeping the database server open to the public is a serious vulnerability.\n",
    "\n",
    "### Task\n",
    "\n",
    "As a newly hired cybersecurity analyst for the e-commerce company, I am tasked with completing a vulnerability assessment of the situation to communicate the potential risks to decision makers at the company. The deliverable is a written report that explains how the vulnerable server is a risk to business operations and how it can be secured.\n"
   ]
  },
  {
   "cell_type": "markdown",
   "id": "e5da5afe",
   "metadata": {},
   "source": [
    "---\n",
    "\n",
    "## Vulnerability Assessment Report\n",
    "\n",
    "The vulnerability assessment report includs a description of the system being evaluated (centralized, remote database server) and the scope of the project. While the System Description highlights the relevant components, architecture, and dependencies of the system to highlight its attack surface, the Scope specifies the focus and boundaries of the assessment. \n",
    "\n",
    "Next, Risk Assessmet is carried out, being guided by the NIST SP 800-30 Rev. 1, which includes identifying potential threat sources, threat events, and then appending a risk calculation of the potential threats through estimating the Likelihood that a threat event might occur and the Severity of impact of the events.\n",
    "\n"
   ]
  },
  {
   "cell_type": "markdown",
   "id": "71a95eca",
   "metadata": {},
   "source": [
    "![assessmentreport1](assessment_report1.png)\n",
    "![assessmentreport2](assessment_report2.png)"
   ]
  }
 ],
 "metadata": {
  "language_info": {
   "name": "python"
  }
 },
 "nbformat": 4,
 "nbformat_minor": 5
}
