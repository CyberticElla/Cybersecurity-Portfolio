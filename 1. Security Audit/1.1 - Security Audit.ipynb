{
 "cells": [
  {
   "cell_type": "markdown",
   "id": "abe5914c",
   "metadata": {},
   "source": [
    "# Security Audit\n",
    "\n",
    "## Conducting a Security Audit activity for a company\n",
    "\n",
    "The goal in this project is to review the scope, goals, and risk assessment report of a fictional company and then perform an internal audit by completing a controls and compliance checklist.\n",
    "\n",
    "A security audit would help better secure the company’s infrastructure, identify and mitigate potential risks, threats, or vulnerabilities to critical assets; and also ensure that they comply with regulations related to internally processing and accepting online payments and conducting business in the European Union (E.U.).\n",
    "\n",
    "## What was provided\n",
    "- Scope, Goals, and Risk Assessment Report\n",
    "- Controls and Complaince Checklist\n",
    "\n",
    "## Activity\n",
    "\n",
    "In this activity, I carefully reviewed the provided Scope, Goals, and Risk Assessment Report for the company, pictured the current security posture of the company and compared them to existing standards for complaince and regulation noting the standards they were meeting and those they fell short of as I completed the controls and compliance checklist.\n",
    "\n",
    "I discovered that the company was vulnerable to data breaches and cyber attacks due to a host of controls that they have failed to implement which would cost the company a lot of money, their reputation, and hinder business continuity following attacks. These include lack of encryption for customer PII and SPII such as credit card information, poor access control and authorization, nominal password policies and password management system, no backups and disaster recovery plans, lack of an IDS, and poor monitoring for legacy systems.\n",
    "\n",
    "Finally, I provided recommendations related to controls and compliance needs for the IT manager to communicate to their stakeholders to reduce risks to assets and improve the company’s security posture. These majorly included implementation of Least Privilege, separation of duties, disaster recovery plans, password policies, an Intrusion Detection System (IDS), ongoing legacy system management, encryption, and a password management system."
   ]
  },
  {
   "cell_type": "markdown",
   "id": "a7062f48",
   "metadata": {},
   "source": [
    "## Controls and Compliance Checklist\n",
    "\n",
    "![controlscompliancescreenshot](controlscomplianceimg.png)\n",
    "![controlscompliancescreenshot2](controlscomplianceimg2.png)\n",
    "![controlscomplaincescreenshot3](controlscomplianceimg3.png)\n",
    "![controlscompliancescreenshot4](controlscomplianceimg4.png)\n",
    "\n",
    "\n",
    "## Recommendations:\n",
    "\n",
    "Botium Toy’s security posture needs a lot of improvement. Multiple controls have failed to be implemented which leaves the company vulnerable to data breaches and cyber attacks which would cost the company a lot of money, their reputation, and hinder business continuity following attacks. These controls need to be implemented to improve Botium Toys’ security posture and better ensure the confidentiality of sensitive information, including: Least Privilege, separation of duties, disaster recovery plans, password policies, an Intrusion Detection System (IDS), ongoing legacy system management, encryption, and a password management system.\n",
    "\n",
    "To better meet compliance standards, Botium Toys needs to implement controls such as Least Privilege, separation of duties, and encryption. The company also needs to properly classify assets, to identify additional controls that may need to be implemented to improve their security posture and better protect sensitive information."
   ]
  }
 ],
 "metadata": {
  "language_info": {
   "name": "python"
  }
 },
 "nbformat": 4,
 "nbformat_minor": 5
}
