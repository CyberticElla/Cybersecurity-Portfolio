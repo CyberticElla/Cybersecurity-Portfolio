{
 "cells": [
  {
   "cell_type": "markdown",
   "id": "7faed591",
   "metadata": {},
   "source": [
    "# Apply OS Hardening Techniques\n",
    "\n",
    "Yummyrecipesforme.com is a website that sells recipes and cookbooks. Consider a scenario where multiple customers emailed yummyrecipesforme’s helpdesk complaining that the company’s website had prompted them to download a file to access free recipes. The customers claimed that after running the file, the address of the website changed and their personal computers began running more slowly. \n",
    "\n",
    "In response to this incident, the website owner tries to log in to the admin panel but is unable to, so they reach out to the website hosting provider. As a cybersecurity analyst, I and my team are tasked with investigating this security event. The goal is to document the incident in detail, including identifying the network protocols used to establish the connection between the user and the website, and then recommend a security action to take to prevent attacks in the future.\n",
    "\n",
    "## What was provided\n",
    "\n",
    "- Tcpdump traffic log\n",
    "\n",
    "## Activity\n",
    "\n",
    "### Scenario\n",
    "\n",
    "In this activity, I work as a Cybersecurity Analyst for yummyrecipesforme.com. A former employee has decided to lure users to a fake website with malware. The former employee/ hacker executed a brute force attack to gain access to the web host. They repeatedly entered several known default passwords for the administrative account until they correctly guessed the right one. After they obtained the login credentials, they were able to access the admin panel and change the website’s source code. They embedded a javascript function in the source code that prompted visitors to download and run a file upon visiting the website. After embedding the malware, the hacker changed the password to the administrative account. When customers download the file, they are redirected to a fake version of the website that contains the malware. Several hours after the attack, multiple customers emailed yummyrecipesforme’s helpdesk. They complained that the company’s website had prompted them to download a file to access free recipes. The customers claimed that, after running the file, the address of the website changed and their personal computers began running more slowly. \n",
    "\n",
    "### Incident Response\n",
    "\n",
    "To address the incident, I create a sandbox environment to observe the suspicious website behavior. I run the network protocol analyzer tcpdump, then type in the URL for the website, yummyrecipesforme.com. As soon as the website loads, I am prompted to download an executable file to update my browser. I accept the download and allow the file to run. I then observe that my browser redirects me to a different URL, greatrecipesforme.com, which contains the malware.  "
   ]
  },
  {
   "cell_type": "markdown",
   "id": "23213de7",
   "metadata": {},
   "source": [
    "---\n",
    "\n",
    "**The logs show the following process:**\n",
    "\n",
    "1. The browser initiates a DNS request: It requests the IP address of the yummyrecipesforme.com URL from the DNS server.\n",
    "2. The DNS replies with the correct IP address. \n",
    "3. The browser initiates an HTTP request: It requests the yummyrecipesforme.com webpage using the IP address sent by the DNS server.\n",
    "4. The browser initiates the download of the malware.\n",
    "5. The browser initiates a DNS request for greatrecipesforme.com.\n",
    "6. The DNS server responds with the IP address for greatrecipesforme.com.\n",
    "7. The browser initiates an HTTP request to the IP address for greatrecipesforme.com.\n",
    "\n",
    "A senior analyst confirms that the website was compromised, checks the source code for the website and notices that javascript code had been added to prompt website visitors to download an executable file. Analysis of the downloaded file found a script that redirects the visitors’ browsers from yummyrecipesforme.com to greatrecipesforme.com. \n",
    "\n",
    "My team reports that the web server was impacted by a brute force attack. The disgruntled hacker was able to guess the password easily because the admin password was still set to the default password. Additionally, there were no controls in place to prevent a brute force attack. \n"
   ]
  },
  {
   "cell_type": "markdown",
   "id": "2ae496b3",
   "metadata": {},
   "source": [
    "---\n",
    "\n",
    "Packet sniffers or network analyzers are used to capture and examine packets of data that flow through computers on a network or the internet. Examples are Wireshark and TCPDump. In this activity, tcpdump was used.\n",
    "\n",
    "In the DNS & HTTP traffic log file, the first section is the time stamp in milliseconds, then shows the source computer (your.machine.52444) using port 52444 to send a DNS resolution request to the DNS server (dns.google.domain) for the destination URL (yummyrecipesforme.com). Then the reply comes back from the DNS server to the source computer with the IP address of the destination URL (203.0.113.22). In the next section, the DSNS server replies the source computer with the IP address of the destination URL of yummyrecipesforme.com (203.0.113.22).\n",
    "\n",
    "**TCP Flag codes include:**\n",
    "\n",
    "- Flags [S]  - Connection Start \n",
    "\n",
    "- Flags [F]  - Connection Finish \n",
    "\n",
    "- Flags [P]  - Data Push\n",
    "\n",
    "- Flags [R]  - Connection Reset\n",
    "\n",
    "- Flags [.]  - Acknowledgment\n",
    "\n",
    "### Tcpdump Log\n",
    "\n",
    "![tcpdump_log1](tcpdump_log1.png)\n",
    "![tcpdump_log2](tcpdump_log2.png)"
   ]
  },
  {
   "cell_type": "markdown",
   "id": "39c05c8d",
   "metadata": {},
   "source": [
    "---\n",
    "\n",
    "### Security Incident Report - Brute Force Attack\n",
    "\n",
    "- Section 1: Identify the network protocol involved in the incident\n",
    "\n",
    "  Requests to web servers for web pages use the http traffic which is the Hypertext transfer protocol (HTTP). Tcpdump log file also shows that http was used in accessing the website yummyrecipesforme.com and transporting the malicious file at the application layer.\n",
    "\n",
    "- Section 2: Document the incident\n",
    "  \n",
    "  We learnt of this incident when several customers called the helpdesk to report an issue. The complaint was that on visiting the website, they faced a prompt to download and run a file that contained access to new recipes; afterwards, their computers began to operate slowly. The website owner also tried to log into the web server but realized they were locked out of their account.\n",
    "\n",
    "  First, the cybersecurity analyst used a sandbox environment to open the website which did not impact the company network. Then, the analyst ran tcpdump to capture the network traffic packets produced by interacting with the website. Just as reported, the analyst was prompted to download a file claiming it would provide access to free recipes, accepted the download and ran it. The browser then redirected the analyst to a fake website (greatrecipesforme.com). \n",
    "\n",
    "  On inspecting the tcpdump log, the cybersecurity analyst noted that the browser initially requested the IP address for the yummyrecipesforme.com website. Once the connection with the website was established over the HTTP protocol, the analyst recalled downloading and executing the file. The logs showed a sudden change in network traffic as the browser requested a new IP address for the greatrecipesforme.com URL. The network traffic was then rerouted to the new IP address for the greatrecipesforme.com website. \n",
    "\n",
    "  The senior cybersecurity professional analyzed the source code for the websites and the downloaded file. The analyst then discovered that an attacker had manipulated the website to add code that prompted the users to download a malicious file disguised as a browser update. They figured the  the attacker used a brute force attack to access the administrator account and change the admin password hence the website owner was locked out. The execution of the malicious file compromised the end users’ computers.\n",
    "\n",
    "- Section 3: Recommend Remediations for brute force attacks\n",
    "\n",
    "  To protect against brute force attacks, block previous passwords from being re-used. Since the vulnerability that led to this attack was the attacker’s ability to use a default password to log in, it’s important that we prevent any old passwords such as default passwords from being used to reset the password. \n",
    "\n",
    "  Again, require more frequent password updates so that if an unauthorized person gets hold of a password, chances of using it successfully would decrease if the password is updated sooner than later. \n",
    "\n",
    "  Finally, implement two-factor authentication (2FA). 2FA requires authentication via a password and also by confirming a one-time passcode (OTP) sent to either their email or phone. Once the user confirms their identity through their login credentials and the OTP, they will gain access to the system. Any malicious actor that attempts a brute force attack will not likely gain access to the system because it requires additional authentication. \n",
    "\n",
    "  \n"
   ]
  }
 ],
 "metadata": {
  "kernelspec": {
   "display_name": "Python 3",
   "language": "python",
   "name": "python3"
  },
  "language_info": {
   "name": "python",
   "version": "3.13.3"
  }
 },
 "nbformat": 4,
 "nbformat_minor": 5
}
