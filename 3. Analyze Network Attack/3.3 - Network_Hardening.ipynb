{
 "cells": [
  {
   "cell_type": "markdown",
   "id": "82f9b03d",
   "metadata": {},
   "source": [
    "# Network Hardening\n",
    "\n",
    "Consider a scenario where a social media organization recently experienced a major data breach caused by undetected vulnerabilities. The goal is to address this breach and propose network hardening tools that can be implemented to improve the organization's overall security posture.\n",
    "\n",
    "## Activity\n",
    "\n",
    "### Scenario\n",
    "\n",
    "In this activity, I work as a security analyst for a social media organization. The organization recently experienced a major data breach, which compromised the safety of their customers’ personal information, such as names and addresses. My organization wants to implement strong network hardening practices that can be performed consistently to prevent attacks and breaches in the future. \n",
    "\n",
    "After inspecting the organization’s network, I discover four major vulnerabilities as follows:\n",
    "\n",
    "1. The organization’s employees' share passwords.\n",
    "\n",
    "2. The admin password for the database is set to the default.\n",
    "\n",
    "3. The firewalls do not have rules in place to filter traffic coming in and out of the network.\n",
    "\n",
    "4. Multifactor authentication (MFA) is not used. \n",
    "\n",
    "If no action is taken to address these vulnerabilities, the organization is at risk of experiencing another data breach or other attacks in the future.\n",
    "\n",
    "### Goal\n",
    "\n",
    "In this activity, I will write a security risk assessment to analyze the incident and explain what methods can be used to further secure the network. The goal is to identify some common network hardening tools that can be implemented to protect the organization’s overall security. Then select a specific vulnerability that the company has and propose different network hardening methods. Finally, explain how the proposed methods and tools will be effective for managing the vulnerability and how they will prevent potential breaches in the future. Understanding how to use network hardening tools and methods helps to better monitor network activity and protect organizations' networks against various attacks.\n"
   ]
  },
  {
   "cell_type": "markdown",
   "id": "35d56a60",
   "metadata": {},
   "source": [
    "---\n",
    "\n",
    "## Risk Assessment Report\n",
    "\n",
    "![risk_assessment1](risk_assessment1.png)\n",
    "![risk_assessment2](risk_assessment2.png)"
   ]
  }
 ],
 "metadata": {
  "language_info": {
   "name": "python"
  }
 },
 "nbformat": 4,
 "nbformat_minor": 5
}
