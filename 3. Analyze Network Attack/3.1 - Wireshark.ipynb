{
 "cells": [
  {
   "cell_type": "markdown",
   "id": "9ef729ce",
   "metadata": {},
   "source": [
    "# Analyzing Network Attacks Using Packet Sniffer Wireshark\n",
    "\n",
    "Consider a scenario where a customer of a company experiences a security issue when accessing the company’s website. The goal is to identify the likely cause of the service interruption. Then, explain how the attack occurred and the negative impact it had on the website. Understanding how attacks impact a network will help troubleshoot issues on an organization’s network. It will also help to take steps to mitigate damage and protect a network from future attacks.\n",
    "\n",
    "## What was provided\n",
    "\n",
    "- Wireshark TCP/HTTP log\n",
    "  \n",
    "## Activity\n",
    "\n",
    "\n",
    "### Scenario\n",
    "\n",
    "In this activity, I work as a security analyst for a travel agency that advertises sales and promotions on the company’s website. The employees of the company regularly access the company’s sales webpage to search for vacation packages their customers might like. \n",
    "\n",
    "One afternoon, I receive an automated alert from my monitoring system indicating a problem with the web server. I attempt to visit the company’s website, but I receive a connection timeout error message in my browser.\n",
    "\n",
    "I use a packet sniffer to capture data packets in transit to and from the web server. I notice a large number of TCP SYN requests coming from an unfamiliar IP address. The web server appears to be overwhelmed by the volume of incoming traffic and is losing its ability to respond to the abnormally large number of SYN requests. I suspect the server is under attack by a malicious actor. \n",
    "\n",
    "### Incident Response\n",
    "\n",
    "I take the server offline temporarily so that the machine can recover and return to a normal operating status. I also configure the company’s firewall to block the IP address that was sending the abnormal number of SYN requests. Because I know that my IP blocking solution won’t last long as the attacker can easily spoof other IP addresses to get around this block, I need to alert my manager about this problem quickly and discuss the next steps to stop this attacker, and also prevent this problem from happening again. I therefore prepare to tell my boss in an Incident Report, about the type of attack I discovered and how it was affecting the web server and employees."
   ]
  },
  {
   "cell_type": "markdown",
   "id": "847ebffa",
   "metadata": {},
   "source": [
    "---\n",
    "\n",
    "Packet sniffers or network analyzers are used to capture and examine packets of data that flow through computers on a network or the internet. Examples are Wireshark and TCPDump. In this activity, Wireshark was used. \n",
    "\n",
    "The log starts from the log entry number and time of incident represented in milliseconds after the logging tool started recording. The source and destination columns contain the source IP address of the machine that is sending a packet and the intended destination IP address of the packet. Here, the IP address 192.0.2.1 belongs to the company’s web server while the range of IP addresses in 198.51.100.0/24 belong to the employees’ computers.\n",
    "\n",
    "The Protocol column indicates the protocol used for data transmission. Here, the packets are being sent using the TCP protocol, which is at the transport layer of the TCP/IP model. Once the connection to the web server is successfully established with TCP, the protocol then changes to HTTP, at the application layer.\n",
    "\n",
    "The Info column provides information about the packet itself. It lists the source port followed by an arrow → pointing to the destination port. In this case, port 443 belongs to the web server. Port 443 is normally used for encrypted web traffic (HTTPS).\n",
    "\n",
    "### Wireshark TCP/HTTP log\n",
    "\n",
    "![wiresharklog1](wireshark_log1.png)\n",
    "![wireshark_log2](wireshark_log2.png)\n",
    "![wiresharklog3](wireshark_log3.png)\n",
    "![wireshark_log4](wireshark_log5.png)\n",
    "![wireshark_log](wireshark_log6.png)\n"
   ]
  },
  {
   "cell_type": "markdown",
   "id": "be71f7d1",
   "metadata": {},
   "source": [
    "---\n",
    "\n",
    "## Cybersecurity Incident Report\n",
    "\n",
    "### Section 1: Identify the type of attack that may have caused this network interruption\n",
    "\n",
    "- An explanation for the connection timeout error message of the website being accessed is a Denial of Service, DOS, attack. \n",
    "\n",
    "  From analyzing the logs, it can be seen that a single IP (203.0.113.0) address has flooded the server with SYN packet requests using the TCP protocol. When the number of SYN requests surpasses the server resources available to handle the requests, the server becomes overwhelmed and unable to respond to the requests. This is a network level denial of service (DoS) precisely known as SYN Flooding, an attack that targets network bandwidth to slow or shutdown traffic. The logs show that the web server stops responding after it is overloaded with SYN packet requests.\n",
    "\n",
    "### Section 2: Explain how the attack is causing the website malfunction\n",
    "\n",
    "- When the website visitors request information from the web server, a connection is established through a three-way handshake using the TCP protocol. The handshake consists of three steps: \n",
    "\n",
    "  1. The source sends a SYN packet to the destination requesting to connect. SYN stands for “synchronize” and it represents the initial request from an employee or visitor trying to connect to a web page hosted on the web server. \n",
    "\n",
    "  2. The destination replies to the source with a SYN-ACK packet to accept the connection request. The [SYN, ACK] packet is the web server’s response to the user’s request agreeing to the connection and will reserve resources for the source to connect. SYN, ACK stands for “synchronize acknowledge.”\n",
    "\n",
    "  3. A final ACK packet is sent from the source to the destination acknowledging the permission to connect. This is the final step required to make a successful TCP connectionThe [ACK] packet is the visitor’s machine acknowledging the permission to connect. ACK stands for Acknowledge.”                             \n",
    "\n",
    "\n",
    "In a SYN flood attack, a malicious actor will send a large number of SYN packets all at once with a target to overwhelm the server’s available resources. This interferes with the server’s ability to reserve resources for the connection. When this happens, there are no server resources left for legitimate TCP connection requests. \n",
    "\n",
    "The logs indicate that the web server has become overwhelmed and is unable to process the visitors’ SYN requests. The server is unable to open a new connection to new visitors who receive a connection timeout message.\n"
   ]
  }
 ],
 "metadata": {
  "language_info": {
   "name": "python"
  }
 },
 "nbformat": 4,
 "nbformat_minor": 5
}
