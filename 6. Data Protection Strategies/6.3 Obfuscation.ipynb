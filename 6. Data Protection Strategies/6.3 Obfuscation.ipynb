{
 "cells": [
  {
   "cell_type": "markdown",
   "id": "dae756d2",
   "metadata": {},
   "source": [
    "# Data Protection\n",
    "\n",
    "Data Protection Strategies are implemented to protect the confidentiality, integrity, and availability of production data. These strategies are implemented through risk management to protect the data from cyber threats, maintain customer trust, and comply with laws and regulations.\n",
    "\n",
    "Data protection strategies include encryption, hashing, and code obfuscation.\n",
    "\n",
    "# Code Obfuscation\n",
    "\n",
    "Code obfuscation is a technique that makes the source code of an application difficult to reverse-engineer. This is accomplished by applying various transformations to the source code, making it difficult for humans to understand, while maintaining the code viability and functional execution; meaning that unobfuscated and obfuscated code both execute the same way, but the obfuscated code is very difficult for humans to read and understand. The JSON code produced with JavaScript is an example of obfuscated code."
   ]
  },
  {
   "cell_type": "markdown",
   "id": "4bed6181",
   "metadata": {},
   "source": [
    "For instance, take a look at the code stored in the file counter.js below.\n",
    "\n",
    "![code](code.png)\n",
    "\n"
   ]
  },
  {
   "cell_type": "markdown",
   "id": "c5c8caa4",
   "metadata": {},
   "source": [
    "Observe the output in the bottom right DEBUG CONSOLE. The output, as expected, is the numbers 1 through 99 written to the screen one at a time.\n",
    "\n",
    "![code2](code2.png)\n",
    "\n"
   ]
  },
  {
   "cell_type": "markdown",
   "id": "a1dabd23",
   "metadata": {},
   "source": [
    "Now, we will obfuscate and execute the same JavaScript Code. \n",
    "\n",
    "## Obfuscate and Execute JavaScript Code\n",
    "\n",
    "Ofuscator.io is a website that offers online code obfuscation services. Developed source code may be uploaded, and obfuscation techniques will be applied, creating obfuscated code that still executes the same way as the original, unobfuscated code did.\n",
    "\n",
    "- Copy the code.\n",
    "- Go to obfuscator.io in your browser.\n",
    "- Highlight and delete the default code, and paste the copied counter.js code.\n",
    "\n",
    "![code3](code3.png)\n",
    "\n",
    "- Select obfuscate and observe the obfuscated code. \n",
    "\n",
    "    - As expected, it is not human-readable but should perform the exact same operations and result in the counting of 1 to 99 when executed.\n",
    "\n",
    "![code4](code4.png)\n",
    "\n",
    "- Download the obfuscated code.\n",
    "- Open the downloaded obfuscated.counter code.\n",
    "\n",
    "![code5](code5.png)\n",
    "\n",
    "- Run code and observe the output in the bottom right Debug Console. \n",
    "\n",
    "    - Note that the obfuscated code and the original source code both execute the same.\n",
    "\n",
    "![code6](code6.png)"
   ]
  }
 ],
 "metadata": {
  "language_info": {
   "name": "python"
  }
 },
 "nbformat": 4,
 "nbformat_minor": 5
}
