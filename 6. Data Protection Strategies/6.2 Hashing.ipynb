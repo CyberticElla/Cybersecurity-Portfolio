{
 "cells": [
  {
   "cell_type": "markdown",
   "id": "48732bb1",
   "metadata": {},
   "source": [
    "# Data Protection\n",
    "\n",
    "Data Protection Strategies are implemented to protect the confidentiality, integrity, and availability of production data. These strategies are implemented through risk management to protect the data from cyber threats, maintain customer trust, and comply with laws and regulations.\n",
    "\n",
    "Data protection strategies include encryption, hashing, and code obfuscation.\n",
    "\n",
    "# Hashing\n",
    "\n",
    "Hashing is a cryptographic process that creates a unique representation of any size data in a fixed-size string of characters. Hashing is used to verify the integrity of files, folders, and volumes of information because if anything associated with that hashed data changes, the subsequent hash output will also change, indicating a change has been made to the file, folder, or volume of information that has been hashed. Hashing is a one-way algorithm. Mathematically, it is not possible to reverse the hashing algorithm and determine the plaintext input that was used to create the hash. Strong hash algorithms include the Secure Hash Algorithms SHA-3, SHA-512, SHA-256, Whirlpool."
   ]
  },
  {
   "cell_type": "markdown",
   "id": "f2425451",
   "metadata": {},
   "source": [
    "## Hash a file in WIndows CMD\n",
    "\n",
    "In File Explorer, navigate to the folder of interest, in this case: Module_9_Folder. Open folder.\n",
    "\n",
    "![hash_folder](hash_folder.png)\n",
    "\n",
    "In File Explorer, in the navigation path, type the following: cmd\n",
    "\n",
    "![hash_folder_cmd](hash_folder_cmd.png)"
   ]
  },
  {
   "cell_type": "markdown",
   "id": "3f3e013c",
   "metadata": {},
   "source": [
    "In the Command Prompt window that opens: \n",
    "\n",
    "- type certutil -hashfile counter.js MD5 and press Enter. This conducts an MD5 hash on the counter.js file.\n",
    "\n",
    "- type certutil -hashfile counter.js SHA1 and press Enter. This conducts an SHA-1 hash on the counter.js file.\n",
    "\n",
    "- type certutil -hashfile counter.js SHA256 and press Enter. This conducts an SHA-256 hash on the counter.js file.\n",
    "\n",
    "- type certutil -hashfile counter.js SHA512 and press Enter. This conducts an SHA-512 hash on the counter.js file.\n",
    "\n",
    "![hash1](hash1.png)\n",
    "\n",
    "Note: Observe the output of each hashing algorithm is a different length. The output length of MD5 is 128 bits, SHA-1 is 160 bits, SHA-256 is 256 bits, and SHA512 is 512bits."
   ]
  },
  {
   "cell_type": "markdown",
   "id": "e6e54ef4",
   "metadata": {},
   "source": [
    "## Hash file in Linux \n",
    "\n",
    "In the terminal, list all files in the directory. Then type:\n",
    "\n",
    "- md5sum mytext.txt to encrypt the file with the md5 hashing algorithm.\n",
    "\n",
    "- md5sum * > hashcheck.txt to hash all files in the current directory and direct the output of the md5sum command to a file called hashcheck.txt.\n",
    "\n",
    "- cat hashcheck.txt to view the content of the hashcheck.txt file, which is the md5 hashes for the three files in the current directory.\n",
    "\n",
    "![hash2](hash2.png)\n",
    "\n",
    "Type:\n",
    "\n",
    "- echo CHANGE >> mytext.txt to append a string to the end of the file\n",
    "- tail -n 1 mytext.txt to view the last line in the file and see that the word \"change\" has been added to the file content.\n",
    "    - Note that this will change the hash output of the mytext.txt file.\n",
    "\n",
    "- md5sum mytext.txt to generate the hash digest again.\n",
    "\n",
    "    - Notice that the MD5 hash values of the unmodified mytext.txt file and modified mytext.txt file are different. This indicates a change in the file has occurred.\n",
    "\n",
    "- md5sum -c hashcheck.txt\n",
    "    - The “-c” switch instructs the command to check the checksums of the files against a provided list (the hashcheck.txt file). \n",
    "\n",
    "![hash3](hash3.png)\n",
    "\n",
    "Observe above, that the output indicates the mytext.txt file hashcheck has failed. This is expected as a result of the change made to the file.\n"
   ]
  }
 ],
 "metadata": {
  "language_info": {
   "name": "python"
  }
 },
 "nbformat": 4,
 "nbformat_minor": 5
}
