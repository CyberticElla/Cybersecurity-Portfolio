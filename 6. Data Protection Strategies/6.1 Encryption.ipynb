{
 "cells": [
  {
   "cell_type": "markdown",
   "id": "a22e4490",
   "metadata": {},
   "source": [
    "# Data Protection\n",
    "\n",
    "Data Protection Strategies are implemented to protect the confidentiality, integrity, and availability of production data. These strategies are implemented through risk management to protect the data from cyber threats, maintain customer trust, and comply with laws and regulations.\n",
    "\n",
    "Data protection strategies include encryption, hashing, and code obfuscation.\n",
    "\n",
    "# Encryption\n",
    "\n",
    "EFS is a Windows operating system tool that allows users to encrypt individual files and folders. With EFS, file-level encryption can protect confidential data from authorized user even if there is access to the physical computer. It integrates seamlessly with the Windows NTFS file system, allowing for the secure storage and retrieval of encrypted files. I\n",
    "\n",
    "EFS encryption and decryption are transparent so encrypted files appear normal when authorized user is logged in. t uses a combination of symmetric and asymmetric encryption. EFS can be used through the File Explorer or in a command-line using the “cipher” command. \n",
    "\n"
   ]
  },
  {
   "cell_type": "markdown",
   "id": "a62fb2eb",
   "metadata": {},
   "source": [
    "The Cipher.exe is a command-line tool that encrypts and decrypts files and folders on an NTFS file system. Once a file or folder is encrypted, the keys are associated with the user account that performed the encryption. This means that a user's encrypted file will not be readable from another user’s account and that any encrypted file will automatically be decrypted if it is opened from the user account that conducted the encryption."
   ]
  },
  {
   "cell_type": "markdown",
   "id": "2087c789",
   "metadata": {},
   "source": [
    "## Encrypt a File\n",
    "\n",
    "In File Explorer, navigate to the folder of interest, in this case, PC\\Documents\\Module_10_Folder. Open the folder.\n",
    "\n",
    "![encryption_folder](encryption_folder.png)\n",
    "\n",
    "In File Explorer, in the navigation path, type the following: cmd.\n",
    "\n",
    "![encryption_cmd](encryption_cmd.png)\n",
    "\n",
    "In the Command Prompt window that opens up, type the following and press Enter: echo “This is a new file” > newfile.txt\n",
    "\n",
    "Then, type: cipher /e \"C:\\Users\\Administrator\\Documents\\Module_10_Folder\\newfile.txt\"\n",
    "\n",
    "Observe the newfile.txt was encrypted. The “/e” in the command is used to encrypt specific files or directories. The “/d” switch would be used to decrypt a file.\n",
    "\n",
    "![encryption1](encryption1.png)\n",
    "\n",
    "In File Explorer, observe the newfile.txt file now has a lock on its icon, indicating the file has been encrypted.\n",
    "\n",
    "![encyrption2](encryption2.png)\n",
    "\n"
   ]
  },
  {
   "cell_type": "markdown",
   "id": "420f59a6",
   "metadata": {},
   "source": [
    "## Encrypt a folder\n",
    "\n",
    "In File Explorer, navigate to the folder of interest, in this case, PC\\Documents\\Module_11_Folder.\n",
    "\n",
    "Right-click on Module_11_Folder and select Properties, then select Advanced.\n",
    "\n",
    "In the Advanced Attributes window, tick the checkbox next to Encrypt contents to secure data, and Click OK.\n",
    "\n",
    "![encryption3](encryption3.png)\n",
    "\n",
    "Click Ok again on the Properties window, and again on the Confirm Attribute Changes pop-up window, \n",
    "\n",
    "![encryption3.1](encryption3.1.png)\n",
    "\n",
    "Notice that the Module_11_Folder now displays a lock on its icon, indicating the folder has been encrypted.\n",
    "\n",
    "![encryption4](encryption4.png)\n",
    "\n",
    "Open the folder and notice that the files in the folder also display a lock on their icon, indicating the folder has been encrypted.\n",
    "\n",
    "![encryption5](encryption5.png)\n",
    "\n",
    "Now, any new files you create in this encrypted folder will automatically become encrypted as well and no other user account can read them but yours."
   ]
  }
 ],
 "metadata": {
  "language_info": {
   "name": "python"
  }
 },
 "nbformat": 4,
 "nbformat_minor": 5
}
