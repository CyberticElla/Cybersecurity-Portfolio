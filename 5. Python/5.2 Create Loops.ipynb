{
 "cells": [
  {
   "cell_type": "markdown",
   "id": "a94c0c91",
   "metadata": {},
   "source": [
    "# Create loops\n",
    "As a security analyst, some of the measures taken to protect a system will involve repetition. In Python, iterative statements can help automate repetitive processes like these to make them more efficient.\n",
    "\n",
    "## Scenario\n",
    "Investigate multiple IP addresses that have attempted to connect to the network. Write programs in Python to automate displaying messages regarding network connection attempts, detecting IP addresses that are attempting to access restricted data, and generating employee ID numbers for a Sales department.\n",
    "\n",
    "1. Write an iterative statement that displays `Connection could not be established` three times:"
   ]
  },
  {
   "cell_type": "code",
   "execution_count": 4,
   "id": "f331dd69",
   "metadata": {},
   "outputs": [
    {
     "name": "stdout",
     "output_type": "stream",
     "text": [
      "Connection could not be established.\n",
      "Connection could not be established.\n",
      "Connection could not be established.\n"
     ]
    }
   ],
   "source": [
    "# Iterative statement using `for`, `range()`, and a loop variable of `i`\n",
    "# Display \"Connection could not be established.\" three times\n",
    "\n",
    "for i in range(3):\n",
    "    print(\"Connection could not be established.\")"
   ]
  },
  {
   "cell_type": "markdown",
   "id": "47277d58",
   "metadata": {},
   "source": [
    "2. The `range()` function can also take in a variable. Incorporate a variable called `connection_attempts`. Assign the positive integer of choice as its value and fill in the missing variable in the iterative statement. "
   ]
  },
  {
   "cell_type": "code",
   "execution_count": 5,
   "id": "8a32b060",
   "metadata": {},
   "outputs": [
    {
     "name": "stdout",
     "output_type": "stream",
     "text": [
      "Connection could not be established\n",
      "Connection could not be established\n",
      "Connection could not be established\n"
     ]
    }
   ],
   "source": [
    "# Create a variable called `connection_attempts` that stores the number of times the user has tried to connect to the network\n",
    "\n",
    "connection_attempts = 3\n",
    "\n",
    "# Iterative statement using `for`, `range()`, a loop variable of `i`, and `connection_attempts`\n",
    "# Display \"Connection could not be established.\" as many times as specified by `connection_attempts`\n",
    "\n",
    "for i in range(connection_attempts):\n",
    "    print(\"Connection could not be established\")"
   ]
  },
  {
   "cell_type": "markdown",
   "id": "7553aaf3",
   "metadata": {},
   "source": [
    "3. The task can also be achieved with a `while` loop. Here, a `for` loop and a `while` loop will produce similar results, but each is based on a different approach. (In other words, the underlying logic is different in each.) A `for` loop terminates after a certain number of iterations have completed, whereas a `while` loop terminates once it reaches a certain condition. In situations where you do not know how many times the specified action should be repeated, `while` loops are most appropriate. \n"
   ]
  },
  {
   "cell_type": "code",
   "execution_count": 6,
   "id": "2ef3e525",
   "metadata": {},
   "outputs": [
    {
     "name": "stdout",
     "output_type": "stream",
     "text": [
      "Connection could not be established\n",
      "Connection could not be established\n",
      "Connection could not be established\n"
     ]
    }
   ],
   "source": [
    "# Assign `connection_attempts` to an initial value of 0, to keep track of how many times the user has tried to connect to the network\n",
    "\n",
    "connection_attempts = 0\n",
    "\n",
    "# Iterative statement using `while` and `connection_attempts`\n",
    "# Display \"Connection could not be established.\" every iteration, until connection_attempts reaches a specified number\n",
    "\n",
    "while connection_attempts < 3:\n",
    "    print(\"Connection could not be established\")\n",
    "\n",
    "    # Update `connection_attempts` (increment it by 1 at the end of each iteration)  \n",
    "    connection_attempts = connection_attempts + 1\n"
   ]
  },
  {
   "cell_type": "markdown",
   "id": "54ef3536",
   "metadata": {},
   "source": [
    "4. Automate checking whether IP addresses are part of an allow list. Start with a list of IP addresses from which users have tried to log in, stored in a variable called `ip_addresses`. Write a `for` loop that displays the elements of this list one at a time. Use `i` as the loop variable in the `for` loop."
   ]
  },
  {
   "cell_type": "code",
   "execution_count": 7,
   "id": "8e743bd6",
   "metadata": {},
   "outputs": [
    {
     "name": "stdout",
     "output_type": "stream",
     "text": [
      "192.168.142.245\n",
      "192.168.109.50\n",
      "192.168.86.232\n",
      "192.168.131.147\n",
      "192.168.205.12\n",
      "192.168.200.48\n"
     ]
    }
   ],
   "source": [
    "# Assign `ip_addresses` to a list of IP addresses from which users have tried to log in\n",
    "\n",
    "ip_addresses = [\"192.168.142.245\", \"192.168.109.50\", \"192.168.86.232\", \"192.168.131.147\",\n",
    "                \"192.168.205.12\", \"192.168.200.48\"]\n",
    "\n",
    "# For loop that displays the elements of `ip_addresses` one at a time\n",
    "\n",
    "for i in ip_addresses:\n",
    "    print(i)"
   ]
  },
  {
   "cell_type": "markdown",
   "id": "a16b3639",
   "metadata": {},
   "source": [
    "5. You have a list of IP addresses that are allowed to log in, stored in a variable called `allow_list`. Write an `if` statement inside of the `for` loop. For each IP address in the list of IP addresses from which users have tried to log in, display `\"IP address is allowed\"` if it is among the allowed addresses and display `\"IP address is not allowed\"` otherwise."
   ]
  },
  {
   "cell_type": "code",
   "execution_count": 8,
   "id": "7613f901",
   "metadata": {},
   "outputs": [
    {
     "name": "stdout",
     "output_type": "stream",
     "text": [
      "IP address is not allowed\n",
      "IP address is not allowed\n",
      "IP address is allowed\n",
      "IP address is not allowed\n",
      "IP address is allowed\n",
      "IP address is not allowed\n"
     ]
    }
   ],
   "source": [
    "# Assign `allow_list` to a list of IP addresses that are allowed to log in\n",
    "\n",
    "allow_list = [\"192.168.243.140\", \"192.168.205.12\", \"192.168.151.162\", \"192.168.178.71\", \n",
    "              \"192.168.86.232\", \"192.168.3.24\", \"192.168.170.243\", \"192.168.119.173\"]\n",
    "\n",
    "# Assign `ip_addresses` to a list of IP addresses from which users have tried to log in\n",
    "\n",
    "ip_addresses = [\"192.168.142.245\", \"192.168.109.50\", \"192.168.86.232\", \"192.168.131.147\",\n",
    "                \"192.168.205.12\", \"192.168.200.48\"]\n",
    "\n",
    "# For each IP address in the list of IP addresses from which users have tried to log in, \n",
    "# If it is among the allowed addresses, then display “IP address is allowed”\n",
    "# Otherwise, display “IP address is not allowed”\n",
    "\n",
    "for i in ip_addresses:\n",
    "\tif i in allow_list:\n",
    "\t\tprint(\"IP address is allowed\")\n",
    "\telse:\n",
    "\t\tprint(\"IP address is not allowed\")"
   ]
  },
  {
   "cell_type": "markdown",
   "id": "753c0094",
   "metadata": {},
   "source": [
    "6. Say that the information the users are trying to access is restricted; if an IP address outside the list of allowed IP addresses attempts access, the loop should terminate because further investigation would be needed to assess whether this activity poses a threat. To achieve this, use the `break` keyword and expand the message that is displayed to the user when their IP address is not in `allow_list` to provide more specifics. Instead of `\"IP address is not allowed\"`, display `\"IP address is not allowed. Further investigation of login activity required\"`."
   ]
  },
  {
   "cell_type": "code",
   "execution_count": 14,
   "id": "2bf9da6c",
   "metadata": {},
   "outputs": [
    {
     "name": "stdout",
     "output_type": "stream",
     "text": [
      "IP address is not allowed. Further investigation of login activity required\n"
     ]
    }
   ],
   "source": [
    "# Assign `allow_list` to a list of IP addresses that are allowed to log in\n",
    "\n",
    "allow_list = [\"192.168.243.140\", \"192.168.205.12\", \"192.168.151.162\", \"192.168.178.71\", \n",
    "              \"192.168.86.232\", \"192.168.3.24\", \"192.168.170.243\", \"192.168.119.173\"]\n",
    "\n",
    "# Assign `ip_addresses` to a list of IP addresses from which users have tried to log in\n",
    "\n",
    "ip_addresses = [\"192.168.142.245\", \"192.168.109.50\", \"192.168.86.232\", \"192.168.131.147\",\n",
    "                \"192.168.205.12\", \"192.168.200.48\"]\n",
    "\n",
    "# For each IP address in the list of IP addresses from which users have tried to log in, \n",
    "# If it is among the allowed addresses, then display “IP address is allowed”\n",
    "# Otherwise, display “IP address is not allowed”\n",
    "               \n",
    "for i in ip_addresses:\n",
    "\tif i in allow_list:\n",
    "\t\tprint(\"IP address is allowed\")\n",
    "\telse:\n",
    "\t\tprint(\"IP address is not allowed. Further investigation of login activity required\")\n",
    "\t\tbreak"
   ]
  },
  {
   "cell_type": "markdown",
   "id": "994c1611",
   "metadata": {},
   "source": [
    "## Scenario\n",
    "\n",
    "### In another scenario, automate the creation of new employee IDs.\n",
    "\n",
    "Create employee IDs for a Sales department, with the criteria that the employee IDs should all be numbers that are unique, divisble by 5, and falling between 5000 and 5150. The employee IDs can include both 5000 and 5150.\n",
    "\n",
    "Write a `while` loop that generates unique employee IDs for the Sales department by iterating through numbers and displays each ID created. "
   ]
  },
  {
   "cell_type": "code",
   "execution_count": 10,
   "id": "80150fea",
   "metadata": {},
   "outputs": [
    {
     "name": "stdout",
     "output_type": "stream",
     "text": [
      "5000\n",
      "5005\n",
      "5010\n",
      "5015\n",
      "5020\n",
      "5025\n",
      "5030\n",
      "5035\n",
      "5040\n",
      "5045\n",
      "5050\n",
      "5055\n",
      "5060\n",
      "5065\n",
      "5070\n",
      "5075\n",
      "5080\n",
      "5085\n",
      "5090\n",
      "5095\n",
      "5100\n",
      "5105\n",
      "5110\n",
      "5115\n",
      "5120\n",
      "5125\n",
      "5130\n",
      "5135\n",
      "5140\n",
      "5145\n",
      "5150\n"
     ]
    }
   ],
   "source": [
    "# Assign the loop variable `i` to an initial value of 5000\n",
    "\n",
    "i = 5000\n",
    "\n",
    "# While loop that generates unique employee IDs for the Sales department by iterating through numbers\n",
    "# and displays each ID created\n",
    "\n",
    "while i <= 5150: \n",
    "    print(i)\n",
    "    i = i + 5"
   ]
  },
  {
   "cell_type": "markdown",
   "id": "2ef3557c",
   "metadata": {},
   "source": [
    "- Say you would like to incorporate a message that displays `Only 10 valid employee ids remaining` as a helpful alert once the loop variable reaches `5100`. \n",
    "\n",
    "To do so, include an `if` statement in your code."
   ]
  },
  {
   "cell_type": "code",
   "execution_count": 15,
   "id": "166a46a5",
   "metadata": {},
   "outputs": [
    {
     "name": "stdout",
     "output_type": "stream",
     "text": [
      "5000\n",
      "5005\n",
      "5010\n",
      "5015\n",
      "5020\n",
      "5025\n",
      "5030\n",
      "5035\n",
      "5040\n",
      "5045\n",
      "5050\n",
      "5055\n",
      "5060\n",
      "5065\n",
      "5070\n",
      "5075\n",
      "5080\n",
      "5085\n",
      "5090\n",
      "5095\n",
      "5100\n",
      "Only 10 valid employee ids remaining\n",
      "5105\n",
      "5110\n",
      "5115\n",
      "5120\n",
      "5125\n",
      "5130\n",
      "5135\n",
      "5140\n",
      "5145\n",
      "5150\n"
     ]
    }
   ],
   "source": [
    "# Assign the loop variable `i` to an initial value of 5000\n",
    "\n",
    "i = 5000\n",
    "\n",
    "# While loop that generates unique employee IDs for the Sales department by iterating through numbers\n",
    "# and displays each ID created\n",
    "# This loop displays \"Only 10 valid employee ids remaining\" once `i` reaches 5100\n",
    "\n",
    "while i <= 5150: \n",
    "    print(i)\n",
    "    if i == 5100:\n",
    "        print(\"Only 10 valid employee ids remaining\")\n",
    "    i = i + 5"
   ]
  },
  {
   "cell_type": "markdown",
   "id": "92e60425",
   "metadata": {},
   "source": [
    "## Conclusion\n",
    "\n",
    "### **Key takeaways**\n",
    "*   Iterative statements play a major role in automating security-related processes that need to be repeated.  \n",
    "*   `for` loops allow you to repeat a process a specified number of times.\n",
    "*   `while` loops allow you to repeat a process until a specified condition has been met. Comparison operators are often used in these conditions.\n",
    "    *   The `<` comparison operator allows you to check whether one value is less than another.\n",
    "    *   The `<=` comparison operator allows you to check whether one value is less than or equal to another.\n",
    "    *   The `==` comparison operator allows you to check whether one value is equal to another.\n",
    "\n",
    "\n",
    "\n"
   ]
  }
 ],
 "metadata": {
  "kernelspec": {
   "display_name": "Python 3",
   "language": "python",
   "name": "python3"
  },
  "language_info": {
   "codemirror_mode": {
    "name": "ipython",
    "version": 3
   },
   "file_extension": ".py",
   "mimetype": "text/x-python",
   "name": "python",
   "nbconvert_exporter": "python",
   "pygments_lexer": "ipython3",
   "version": "3.13.3"
  }
 },
 "nbformat": 4,
 "nbformat_minor": 5
}
