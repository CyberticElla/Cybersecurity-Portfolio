{
 "cells": [
  {
   "cell_type": "markdown",
   "metadata": {
    "id": "a3e8ad96"
   },
   "source": [
    "# Create a conditional statement\n",
    "As a security analyst, some of the measures taken to protect a system will involve repetition. In Python, conditional statements are a powerful structure that help achieve automation when we need to make sure conditions are met before certain actions are executed. For example, security analysts can use conditional statements in Python to check if users are approved to access a device. "
   ]
  },
  {
   "cell_type": "markdown",
   "metadata": {
    "id": "ALaLE1bw111w"
   },
   "source": [
    "## Scenario\n",
    "\n",
    "As a security analyst responsible for checking whether a user's operating system requires an update, investigate login attempts to a specific device to determine if login attempts were made by users approved to access this device and if the login attempts occurred during organization hours."
   ]
  },
  {
   "cell_type": "markdown",
   "metadata": {
    "id": "23c95356-a357-4401-aaf3-a15b696c5537"
   },
   "source": [
    "1. Automate the process of checking whether a user's operating system requires an update. Imagine that a user's device can be running one of the following operating systems: OS 1, OS 2, or OS 3. While OS 2 is up-to-date, OS 1 and OS 3 are not. Your task is to check whether the user's system is up-to-date, and if it is, display a message accordingly."
   ]
  },
  {
   "cell_type": "code",
   "execution_count": 1,
   "metadata": {
    "colab": {
     "base_uri": "https://localhost:8080/"
    },
    "executionInfo": {
     "elapsed": 8,
     "status": "ok",
     "timestamp": 1675409433051,
     "user": {
      "displayName": "Lavanya Vijayan",
      "userId": "09394087000910120547"
     },
     "user_tz": 480
    },
    "id": "6de25674",
    "outputId": "1b41f47e-ca2f-4d6f-f480-255b87853804"
   },
   "outputs": [
    {
     "name": "stdout",
     "output_type": "stream",
     "text": [
      "no update needed\n"
     ]
    }
   ],
   "source": [
    "# Assign a variable named `system` to a specific operating system, represented as a string\n",
    "# This variable indicates which operating system is running\n",
    "\n",
    "system = \"OS 2\"\n",
    "\n",
    "# If OS 2 is running, then display a \"no update needed\" message\n",
    "\n",
    "if system == \"OS 2\":\n",
    "    print(\"no update needed\")\n",
    "    "
   ]
  },
  {
   "cell_type": "markdown",
   "metadata": {
    "id": "19984c9e"
   },
   "source": [
    "2. Display a message that conveys that an update is needed when the `system` is not running OS 2; assign the `system` variable to different values (`\"OS 1\"`, `\"OS 2\"`, and `\"OS 3\"`), run the cell and observe what happens. "
   ]
  },
  {
   "cell_type": "code",
   "execution_count": null,
   "metadata": {
    "colab": {
     "base_uri": "https://localhost:8080/"
    },
    "executionInfo": {
     "elapsed": 267,
     "status": "ok",
     "timestamp": 1675409433313,
     "user": {
      "displayName": "Lavanya Vijayan",
      "userId": "09394087000910120547"
     },
     "user_tz": 480
    },
    "id": "8f93d4f9",
    "outputId": "e79a2b33-b9f9-4153-d68c-1844a1bddf52"
   },
   "outputs": [
    {
     "name": "stdout",
     "output_type": "stream",
     "text": [
      "update needed\n"
     ]
    }
   ],
   "source": [
    "# Assign `system` to a specific operating system to represent which operating system is running\n",
    "\n",
    "system = \"OS 3\"\n",
    "\n",
    "# If OS 2 is running, then display a \"no update needed\" message\n",
    "# Otherwise, display an \"update needed\" message\n",
    "\n",
    "if system == \"OS 2\":\n",
    "    print(\"no update needed\")\n",
    "else: \n",
    "    print(\"update needed\")\n",
    "\n",
    "# Feel free to run this cell multiple times; each time try assigning `system` to different values (\"OS 1\", \"OS 2\", \"OS 3\") and observe the result"
   ]
  },
  {
   "cell_type": "markdown",
   "metadata": {
    "id": "d49b13ff"
   },
   "source": [
    "In this setup, when OS 2 is running, `no update needed` is displayed. And when OS 2 is not running, `update needed` is displayed."
   ]
  },
  {
   "cell_type": "markdown",
   "metadata": {
    "id": "8bfe6696"
   },
   "source": [
    "3. This setup is still not ideal. If the variable `system` contains a random string or integer, the conditional above would still display `update needed`. To improve the conditional, add the `elif` keyword. "
   ]
  },
  {
   "cell_type": "code",
   "execution_count": null,
   "metadata": {
    "id": "44d46c34"
   },
   "outputs": [],
   "source": [
    "# Assign `system` to a specific operating system\n",
    "# This variable represents which operating system is running\n",
    "\n",
    "system = \"OS 4\"\n",
    "\n",
    "# If OS 2 is running, then display a \"no update needed\" message\n",
    "# Otherwise if OS 1 is running, display an \"update needed\" message\n",
    "# Otherwise if OS 3 is running, display an \"update needed\" message\n",
    "\n",
    "if system == \"OS 2\":\n",
    "    print(\"no update needed\")\n",
    "elif system == \"OS 1\":\n",
    "    print(\"update needed\")\n",
    "elif system == \"OS 3\":\n",
    "    print(\"update needed\")\n",
    "    "
   ]
  },
  {
   "cell_type": "markdown",
   "metadata": {
    "id": "7017ee16"
   },
   "source": [
    "Under this setup, when OS 2 is running, `no update needed` is displayed. When either OS 1 or OS 3 is running, `update needed` is displayed. However, when neither of those three operating systems are running, nothing is displayed as seen in the cell."
   ]
  },
  {
   "cell_type": "markdown",
   "metadata": {
    "id": "b1c2f0ad"
   },
   "source": [
    "4. Since writing code that is readable and concise is a best practice in programming, the conditional above can be written more concisely using a logical operator to combine the two `elif` statements."
   ]
  },
  {
   "cell_type": "code",
   "execution_count": 5,
   "metadata": {
    "id": "adeacdd1"
   },
   "outputs": [
    {
     "name": "stdout",
     "output_type": "stream",
     "text": [
      "update needed\n"
     ]
    }
   ],
   "source": [
    "# Assign `system` to a specific operating system\n",
    "# This variable represents which operating system is running\n",
    "\n",
    "system = \"OS 3\"\n",
    "\n",
    "# If OS 2 is running, then display a \"no update needed\" message\n",
    "# Otherwise if either OS 1 or OS 3 is running, display an \"update needed\" message\n",
    "\n",
    "if system == \"OS 2\":\n",
    "    print(\"no update needed\")\n",
    "elif system == \"OS 1\" or system == \"OS 3\": \n",
    "    print(\"update needed\")\n",
    "    "
   ]
  },
  {
   "cell_type": "markdown",
   "metadata": {
    "id": "eFvoDtdsCcYo"
   },
   "source": [
    "## Scenario\n",
    "\n",
    "As a Cybersecurity Analyst, investigate login attempts to a specific device. Only approved users should log on to this device. \n",
    "\n",
    "1. Start with two authorized users stored in the variables `approved_user1` and `approved_user2`. You'll need to write a conditional statement that compares those variables to a third variable, `username`.  This will be the username of a specific user trying to log in."
   ]
  },
  {
   "cell_type": "code",
   "execution_count": 6,
   "metadata": {
    "colab": {
     "base_uri": "https://localhost:8080/"
    },
    "executionInfo": {
     "elapsed": 10,
     "status": "ok",
     "timestamp": 1675409433314,
     "user": {
      "displayName": "Lavanya Vijayan",
      "userId": "09394087000910120547"
     },
     "user_tz": 480
    },
    "id": "9543e585",
    "outputId": "9d9d4796-4e1f-441b-f749-b1e3ee17128b"
   },
   "outputs": [
    {
     "name": "stdout",
     "output_type": "stream",
     "text": [
      "This user has access to this device.\n"
     ]
    }
   ],
   "source": [
    "# Assign `approved_user1` and `approved_user2` to usernames of approved users \n",
    "\n",
    "approved_user1 = \"elarson\"\n",
    "approved_user2 = \"bmoreno\"\n",
    "\n",
    "# Assign `username` to the username of a specific user trying to log in \n",
    "\n",
    "username = \"bmoreno\" \n",
    "\n",
    "# If the user trying to log in is among the approved users, then display a message that they are approved to access this device\n",
    "# Otherwise, display a message that they do not have access to this device\n",
    "\n",
    "if username == approved_user1 or username == approved_user2:\n",
    "    print(\"This user has access to this device.\")\n",
    "else: \n",
    "    print(\"This user does not have access to this device.\")\n",
    "    "
   ]
  },
  {
   "cell_type": "markdown",
   "metadata": {
    "id": "563f6d9c"
   },
   "source": [
    "2. The number of approved users has now expanded to five. Rather than storing each of the approved users' usernames individually, it would be more concise to store them in an allow list called `approved_list`. The `in` operator in Python can be used to determine whether a given value is an element of a sequence. Using the `in` operator in a condition can help you check whether a specific username is part of a list of approved usernames. For example, in the code below, `username in approved_list` evaluates to `True` if the value of the `username` variable is included in `approved_list`."
   ]
  },
  {
   "cell_type": "code",
   "execution_count": 7,
   "metadata": {
    "colab": {
     "base_uri": "https://localhost:8080/"
    },
    "executionInfo": {
     "elapsed": 9,
     "status": "ok",
     "timestamp": 1675409433314,
     "user": {
      "displayName": "Lavanya Vijayan",
      "userId": "09394087000910120547"
     },
     "user_tz": 480
    },
    "id": "a9e2a586",
    "outputId": "14464f98-56b2-4ffc-d067-402e35131334"
   },
   "outputs": [
    {
     "name": "stdout",
     "output_type": "stream",
     "text": [
      "This user does not have access to this device.\n"
     ]
    }
   ],
   "source": [
    "# Assign `approved_list` to a list of approved usernames\n",
    "\n",
    "approved_list = [\"elarson\", \"bmoreno\", \"tshah\", \"sgilmore\", \"eraab\"]\n",
    "\n",
    "# Assign `username` to the username of a specific user trying to log in \n",
    "\n",
    "username = \"jhill\" \n",
    "\n",
    "# If the user trying to log in is among the approved users, then display a message that they are approved to access this device\n",
    "# Otherwise, display a message that they do not have access to this device\n",
    "\n",
    "if username in approved_list:\n",
    "    print(\"This user has access to this device.\")\n",
    "else: \n",
    "    print(\"This user does not have access to this device.\")\n",
    "    "
   ]
  },
  {
   "cell_type": "markdown",
   "metadata": {
    "id": "0b96ec83-8980-48e8-ac98-1cd7ef7af526"
   },
   "source": [
    "3. Write another conditional statement that will use an `organization_hours` variable to check if the user logged in during specific organization hours. When that condition is met, the code should display the string `\"Login attempt made during organization hours.\"`. When that condition isn't met, the code should display the string `\"Login attempt made outside of organization hours.\"`. "
   ]
  },
  {
   "cell_type": "code",
   "execution_count": 8,
   "metadata": {
    "colab": {
     "base_uri": "https://localhost:8080/"
    },
    "executionInfo": {
     "elapsed": 7,
     "status": "ok",
     "timestamp": 1675409433314,
     "user": {
      "displayName": "Lavanya Vijayan",
      "userId": "09394087000910120547"
     },
     "user_tz": 480
    },
    "id": "4ddfba9a",
    "outputId": "4c702bf4-30ec-4f77-96f4-58d8fab3ba30"
   },
   "outputs": [
    {
     "name": "stdout",
     "output_type": "stream",
     "text": [
      "Login attempt made during organization hours.\n"
     ]
    }
   ],
   "source": [
    "# Assign `organization_hours` to a Boolean value that represents whether the user is trying to log in during organization hours\n",
    "\n",
    "organization_hours = True\n",
    "\n",
    "# If the entered `organization_hours` has a value of True, then display \"Login attempt made during organization hours.\"\n",
    "# Otherwise, display \"Login attempt made outside of organization hours.\"\n",
    "\n",
    "if organization_hours == True:\n",
    "    print(\"Login attempt made during organization hours.\")\n",
    "else:\n",
    "    print(\"Login attempt made outside of organization hours.\")\n",
    "    "
   ]
  },
  {
   "cell_type": "markdown",
   "metadata": {
    "id": "af03a37c-7452-4fbb-b72f-ee355a1537b1"
   },
   "source": [
    "- Assemble all the code from the top. It includes the conditional statement that checks if a user is on the allow list and the conditional statement that checks if the user logged in during organization hours.\n",
    "\n",
    "    - Feel free to run the cell a few times, entering a different combination of values for `username` and `organization_hours` each time to observe how that affects the output."
   ]
  },
  {
   "cell_type": "code",
   "execution_count": 9,
   "metadata": {
    "colab": {
     "base_uri": "https://localhost:8080/"
    },
    "executionInfo": {
     "elapsed": 6,
     "status": "ok",
     "timestamp": 1675409433315,
     "user": {
      "displayName": "Lavanya Vijayan",
      "userId": "09394087000910120547"
     },
     "user_tz": 480
    },
    "id": "226a807c",
    "outputId": "07eb2226-3e19-41ad-f984-e50e595b45f2"
   },
   "outputs": [
    {
     "name": "stdout",
     "output_type": "stream",
     "text": [
      "This user has access to this device.\n",
      "Login attempt made during organization hours.\n"
     ]
    }
   ],
   "source": [
    "# Assign `approved_list` to a list of approved usernames\n",
    "\n",
    "approved_list = [\"elarson\", \"bmoreno\", \"tshah\", \"sgilmore\", \"eraab\"]\n",
    "\n",
    "# Assign `username` to the username of a specific user trying to log in \n",
    "\n",
    "username = \"bmoreno\" \n",
    "\n",
    "# If the user trying to log in is among the approved users, then display a message that they are approved to access this device\n",
    "# Otherwise, display a message that they do not have access to this device\n",
    "\n",
    "if username in approved_list:\n",
    "    print(\"This user has access to this device.\")\n",
    "\n",
    "else:\n",
    "    print(\"This user does not have access to this device.\")\n",
    "\n",
    "# Assign `organization_hours` to a Boolean value that represents whether the user is trying to log in during organization hours\n",
    "\n",
    "organization_hours = True\n",
    "\n",
    "# If the entered `organization_hours` has a value of True, then display \"Login attempt made during organization hours.\"\n",
    "# Otherwise, display \"Login attempt made outside of organization hours.\"\n",
    "\n",
    "if organization_hours == True:\n",
    "    print(\"Login attempt made during organization hours.\")\n",
    "else:\n",
    "    print(\"Login attempt made outside of organization hours.\") \n",
    "    "
   ]
  },
  {
   "cell_type": "markdown",
   "metadata": {
    "id": "2de9d7a0"
   },
   "source": [
    "- Provide a single message about the login attempt by joining both conditions into a single conditional statement using a logical operator. This will make the code more concise."
   ]
  },
  {
   "cell_type": "code",
   "execution_count": 10,
   "metadata": {
    "colab": {
     "base_uri": "https://localhost:8080/"
    },
    "executionInfo": {
     "elapsed": 5,
     "status": "ok",
     "timestamp": 1675409433315,
     "user": {
      "displayName": "Lavanya Vijayan",
      "userId": "09394087000910120547"
     },
     "user_tz": 480
    },
    "id": "344272b2-62c6-4264-bf08-92f1bdd5e427",
    "outputId": "548a3966-c3f3-4ad0-8eca-03f7b006c667"
   },
   "outputs": [
    {
     "name": "stdout",
     "output_type": "stream",
     "text": [
      "Login attempt made by an approved user during organization hours.\n"
     ]
    }
   ],
   "source": [
    "# Assign `approved_list` to a list of approved usernames\n",
    "\n",
    "approved_list = [\"elarson\", \"bmoreno\", \"tshah\", \"sgilmore\", \"eraab\"]\n",
    "\n",
    "# Assign `username` to the username of a specific user trying to log in \n",
    "\n",
    "username = \"bmoreno\" \n",
    "\n",
    "# Assign `organization_hours` to a Boolean value that represents whether the user is trying to log in during organization hours\n",
    "\n",
    "organization_hours = True\n",
    "\n",
    "# If the user is among the approved users and they are logging in during organization hours, then convey that the user is logged in\n",
    "# Otherwise, convey that either the username is not approved or the login attempt was made outside of organization hours\n",
    " \n",
    "if username in approved_list and organization_hours == True:\n",
    "    print(\"Login attempt made by an approved user during organization hours.\")\n",
    "else:\n",
    "    print(\"Username not approved or login attempt made outside of organization hours.\")\n",
    "    "
   ]
  },
  {
   "cell_type": "markdown",
   "metadata": {
    "id": "39b25c13"
   },
   "source": [
    "## Conclusion\n",
    "### **Key takeaways**\n",
    "*   Conditional statements, comparison operators, and logical operators play a major role in automating important processes to maintain security, such as detecting when a user's operating system requires updates and detecting when a user is allowed to access a device. \n",
    "*   Conditional statements allow you to determine whether a specific set of conditions has been met. \n",
    "*   Comparison operators allow you to compare pairs of values. Specifically, the `==` operator allows you to determine whether one value is equal to another.\n",
    "*   Logical operators such as `and` and `or` allow you to check more than one condition at a time.\n",
    "\n",
    "\n",
    "\n"
   ]
  }
 ],
 "metadata": {
  "colab": {
   "provenance": [
    {
     "file_id": "1iWn3JNPPBvsHRSvEKMGIaN8d9PB5H8T0",
     "timestamp": 1667953385116
    }
   ]
  },
  "kernelspec": {
   "display_name": "Python 3",
   "language": "python",
   "name": "python3"
  },
  "language_info": {
   "codemirror_mode": {
    "name": "ipython",
    "version": 3
   },
   "file_extension": ".py",
   "mimetype": "text/x-python",
   "name": "python",
   "nbconvert_exporter": "python",
   "pygments_lexer": "ipython3",
   "version": "3.13.3"
  }
 },
 "nbformat": 4,
 "nbformat_minor": 5
}
