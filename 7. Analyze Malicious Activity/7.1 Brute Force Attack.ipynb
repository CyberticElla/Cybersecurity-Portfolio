{
 "cells": [
  {
   "cell_type": "markdown",
   "id": "5e83436c",
   "metadata": {},
   "source": [
    "# Observe Indications of a Brute Force Attack\n",
    "\n",
    "Server Message Block (SMB) is a network protocol used in Microsoft Windows operating systems for sharing files, printers, and other resources. Attacks on the SMB protocol can lead to compromised systems, stolen data, and network \n",
    "disruptions.\n",
    "\n",
    "In this exercise, simulate an attack and enumerate SMB, then conduct a brute force attack on it. Then as a network defender, observe and recognize the attack in Windows Event Viewer."
   ]
  },
  {
   "cell_type": "markdown",
   "id": "874992e2",
   "metadata": {},
   "source": [
    "### 1. Perform SMB Enumeration and Login Attempt\n",
    "\n",
    "SBM enumeration is used by attackers to gather information about the environment, identify vulnerabilities, and plan attacks.\n",
    "\n",
    "- In Windows OS, open Event Viewer\n",
    "- Expand Application and Services Logs > Microsoft > Windows > SMBServer on the left pane\n",
    "- Select Security logs\n",
    "\n",
    "![eventviewer](event_viewer.png)\n",
    "\n",
    "Notice that there are no logs present. This will be the location to refer back to for SMBServer Security logs.\n"
   ]
  },
  {
   "cell_type": "markdown",
   "id": "02bfbc81",
   "metadata": {},
   "source": [
    "***Now as an attacker, enumerate the Windows ACIDM01 machine in Kali.***\n",
    "\n",
    "- In Kali Linux, open the Terminal\n",
    "- Type: nmap -Pn 192.168.0.2 and press Enter\n",
    "    - When the nmap scan is complete, observe the open ports and find ports 139 and 445 are open, both associated with SMB.\n",
    "    \n",
    "![kalinmap](kalinmap.png)\n",
    "\n",
    "Note that the “-Pn” switch is required for the ACI lab infrastructure and results in namp forgoing the host discovery ping and assuming the target is alive, which in this case is correct. \n",
    "\n",
    "- Type: enum4linux 192.168.0.2 and press Enter\n",
    "    - Note that the Linux tool enum4linux is used to enumerate information from Windows and Samba. Notice in the output known usernames that include administrator, guest, krbtgt, etc. \n",
    "\n",
    "![kalienum](kalienum.png)\n",
    "\n",
    "- Type: smbclient //192.168.0.2/administrator and press Enter\n",
    "     - The smbclient tool enables communication and connection with SMB workstations\n",
    "- Type: Passw0rd and press Enter\n",
    "    - Connection via SMB requires a password; the password entered is a guess and is incorrect.\n",
    "\n",
    "![smbclient](smbclient.png)\n",
    "\n",
    "\n"
   ]
  },
  {
   "cell_type": "markdown",
   "id": "90050f74",
   "metadata": {},
   "source": [
    "***Now as a defender, go back to windows Event Viewer and observe the Errors that appear as a result of the single failed login attempt.***\n",
    "\n",
    "- In the Event Viewer, right-click on Security and select Refresh.\n",
    "\n",
    "![event_viewer2](event_viewer2.png)\n",
    "\n",
    "In the General tab, notice in the third error down that the attempted login originated from 192.168.0.5 and was the result of a bad username or authentication information.\n",
    "\n",
    "![event_viewer3](event_viewer3.png)\n"
   ]
  },
  {
   "cell_type": "markdown",
   "id": "62e525ae",
   "metadata": {},
   "source": [
    "### 2. Conduct and Observe a Scripted Brute Force Attack \n",
    "\n",
    "- In the Event Viewer, right-click on Security and select Clear Log\n",
    "\n",
    "![event_viewer4](event_viewer4.png)\n",
    "\n",
    "- Then select Save and Clear\n",
    "    - Enter File name field: failed_login  and Click Save.\n",
    "\n",
    "![event_viewer5](event_viewer5.png)"
   ]
  },
  {
   "cell_type": "markdown",
   "id": "b9f957e6",
   "metadata": {},
   "source": [
    "***Back to kali as an attacker, navigate to a directory containing a script that will be used to conduct a short brute force attack on the SMB protocol***\n",
    "\n",
    "- Type: cd Documents/Module_5_Folder and press Enter\n",
    "- Type: cat brute.sh and press Enter\n",
    "\n",
    "![cat_brute.sh](cat_brute.sh.png)\n",
    "\n",
    "Notice that this is a bash script that iterates through the numbers 0 through 20 as passwords to the smbclient connection command. \n",
    "\n",
    "Additionally, at each log on attempt, it outputs to the screen the password that was attempted. An attacker’s brute force attack would likely include an algorithm that iterates through all possible combinations of passwords rather than just the numbers 0 through 20.\n",
    "\n",
    "- Type: ./brute.sh and press Enter\n",
    "    - Notice that for all connection attempts, access was denied. \n",
    "    \n",
    "![brute.sh1](brute.sh1.png)\n",
    "![brute.sh2](brute.sh2.png)\n",
    "\n",
    "***Back in the Windows machine as a defender, In the Event Viewer, right-click on Security logs and select Refresh***\n",
    "\n",
    "\n",
    "- In the Event Viewer, right-click on Security logs and select Refresh.\n",
    "    - Observe the errors in the logs due to the brute force script\n",
    "\n",
    "![brute.sh3](brute.sh3.png)"
   ]
  },
  {
   "cell_type": "markdown",
   "id": "432cf681",
   "metadata": {},
   "source": []
  }
 ],
 "metadata": {
  "language_info": {
   "name": "python"
  }
 },
 "nbformat": 4,
 "nbformat_minor": 5
}
