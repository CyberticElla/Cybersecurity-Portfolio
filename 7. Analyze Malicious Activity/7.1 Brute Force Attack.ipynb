{
 "cells": [
  {
   "cell_type": "markdown",
   "id": "5e83436c",
   "metadata": {},
   "source": [
    "# Observe Indications of a Brute Force Attack\n",
    "\n",
    "Server Message Block (SMB) is a network protocol used in Microsoft Windows operating systems for sharing files, printers, and other resources. Attacks on the SMB protocol can lead to compromised systems, stolen data, and network \n",
    "disruptions.\n",
    "\n",
    "In this exercise, simulate an attack and enumerate SMB, then conduct a brute force attack on it. Then as a network defender, observe and recognize the attack in Windows Event Viewer."
   ]
  },
  {
   "cell_type": "markdown",
   "id": "874992e2",
   "metadata": {},
   "source": [
    "### 1. Perform SMB Enumeration and Login Attempt\n",
    "\n",
    "SBM enumeration is used by attackers to gather information about the environment, identify vulnerabilities, and plan attacks.\n",
    "\n",
    "- In Windows OS, open Event Viewer\n",
    "- Expand Application and Services Logs > Microsoft > Windows > SMBServer on the left pane\n",
    "- Select Security logs\n",
    "\n",
    "![eventviewer](event_viewer.png)\n",
    "\n",
    "Notice that there are no logs present. This will be the location to refer back to for SMBServer Security logs.\n"
   ]
  },
  {
   "cell_type": "markdown",
   "id": "02bfbc81",
   "metadata": {},
   "source": [
    "***Now as an attacker, enumerate the Windows ACIDM01 machine in Kali.***\n",
    "\n",
    "- In Kali Linux, open the Terminal\n",
    "- Type: nmap -Pn 192.168.0.2\n",
    "    - When the nmap scan is complete, observe the open ports and find ports 139 and 445 are open, both associated with SMB.\n",
    "    \n",
    "![kalinmap](kalinmap.png)\n",
    "\n",
    "Note that the “-Pn” switch is required for the ACI lab infrastructure and results in namp forgoing the host discovery ping and assuming the target is alive, which in this case is correct. \n",
    "\n",
    "- Type: enum4linux 192.168.0.2 \n",
    "    - Note that the Linux tool enum4linux is used to enumerate information from Windows and Samba. Notice in the output known usernames that include administrator, guest, krbtgt, etc. \n",
    "\n",
    "![kalienum](kalienum.png)\n",
    "\n",
    "Note that the Linux tool enum4linux is used to enumerate information from Windows and Samba. Notice in the output known usernames that include administrator, guest, krbtgt, etc. \n"
   ]
  }
 ],
 "metadata": {
  "language_info": {
   "name": "python"
  }
 },
 "nbformat": 4,
 "nbformat_minor": 5
}
