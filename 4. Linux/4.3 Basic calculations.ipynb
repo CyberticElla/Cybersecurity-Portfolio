{
 "cells": [
  {
   "cell_type": "markdown",
   "id": "bcd442dd",
   "metadata": {},
   "source": [
    "# Using the expr command\n",
    "\n",
    "## The expr command performs basic mathematical calculations.\n",
    "\n",
    "Here, the system has shown that we have 52 alerts, but only 21 required action. We want to calculate how many alerts are false positives so that we can provide feedback to the team that configures the alerts.\n",
    "\n",
    "**To calculate the number of false positives using the expr command, subtract the number of alerts that required action from the total number of alerts:**\n",
    "\n",
    "![false+](false+.png)\n",
    "\n",
    "You can see there were 31 false positive alerts.\n",
    "\n",
    "---\n",
    "\n",
    "**Now, we need to calculate the average number of login attempts that are expected over the course of a year.**\n",
    "\n",
    "Since we already know that an average of 3500 login attempts have been made each month so far this year, we are able to calculate the total number of logins expected in a year by multiplying 3500 by 12.\n",
    "\n",
    "![exp-logins](exp-logins.png)\n",
    "\n",
    "You can see that 42000 login attempts are expected per year on the average.\n",
    "\n",
    "---\n",
    "\n",
    "**We can also estimate how many login attempts made per day.**\n",
    "\n",
    "Again, knowing that there are about 3500 login attempts per month, we can divide that number by 30 to get the average number of attempts per day.\n",
    "\n",
    "![day-logins](day-logins.png)\n",
    "\n",
    "You can see there are 116 login attempts per day on the average."
   ]
  }
 ],
 "metadata": {
  "kernelspec": {
   "display_name": "Python 3",
   "language": "python",
   "name": "python3"
  },
  "language_info": {
   "codemirror_mode": {
    "name": "ipython",
    "version": 3
   },
   "file_extension": ".py",
   "mimetype": "text/x-python",
   "name": "python",
   "nbconvert_exporter": "python",
   "pygments_lexer": "ipython3",
   "version": "3.13.3"
  }
 },
 "nbformat": 4,
 "nbformat_minor": 5
}
