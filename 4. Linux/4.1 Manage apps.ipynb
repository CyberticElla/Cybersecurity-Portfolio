{
 "cells": [
  {
   "cell_type": "markdown",
   "id": "196bf1ce",
   "metadata": {},
   "source": [
    "## Bash is the default Linux shell in most Linux/Unix-like systems.\n",
    "\n",
    "As a security analyst, managing applications comes with the role. The screenshots below show installing and uninstalling network security application Suricata in Linux Bash shell, and also testing to confirm that it was installed and uninstalled correctly.\n",
    "\n",
    "First, confirm that APT is installed on your Linux Bash shell:\n",
    "![apt](apt.png)\n",
    "\n",
    "Next, use APT to install the Suricata application:\n",
    "![suricata1](install-suricata.png)\n",
    "![suricata1](install-suricata2.png)\n",
    "\n",
    "Test to confirm that it is installed:\n",
    "![suricata2](test-suricata.png)\n",
    "![suricata2](test-suricata2.png)\n",
    "\n",
    "Now, uninstall suricata:\n",
    "![uninstall](uninstall-suricata.png)\n",
    "\n",
    "And test to confirm uninstallation:\n",
    "![uninstall](uninstall-suricata2.png)\n"
   ]
  }
 ],
 "metadata": {
  "language_info": {
   "name": "python"
  }
 },
 "nbformat": 4,
 "nbformat_minor": 5
}
