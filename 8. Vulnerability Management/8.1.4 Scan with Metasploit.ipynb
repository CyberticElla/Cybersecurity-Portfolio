{
 "cells": [
  {
   "cell_type": "markdown",
   "id": "3ccae2b1",
   "metadata": {},
   "source": [
    "## Scan Detected Hosts for Vulnerabilities with Metasploit and Nmap\n",
    "\n",
    "The Metasploit Framework application can be used in conjunction with the nmap application to detect web application vulnerabilities.\n",
    "\n",
    "In Kali Linux,enter sudo msfdb init && msfconsole. When prompted, type Y and press Enter.\n",
    "\n",
    "![metasploit](metasploit1.png)\n",
    "\n",
    "Enter use auxiliary/scanner/portscan/tcp, then show options.\n",
    "\n",
    "![metasploit](metasploit2.png)\n",
    "\n",
    "Enter set RHOSTS 192.168.0.4  \n",
    "Enter set PORTS 8000-9000 to state the range of the open ports that will be scanned  \n",
    "Then enter exploit\n",
    "\n",
    "![metasploit](metasploit3.png)\n",
    "\n",
    "Note that the metasploitable application was used to test which ports are open on the detected host. From the results, it can be seen that Port 9000 is open.\n",
    "\n",
    "Enter db_nmap -sV -p 9000 192.168.0.4\n",
    "\n",
    "![metasploit](metasploit4.png)\n",
    "\n",
    "Note that the nmap application was used to determine the version and the operating system hosting the Apache Server. As a Cybersecurity Specialist, this information can be used to determine if there are any discovered vulnerabilities for the specific version of the Apache Server.\n"
   ]
  }
 ],
 "metadata": {
  "language_info": {
   "name": "python"
  }
 },
 "nbformat": 4,
 "nbformat_minor": 5
}
