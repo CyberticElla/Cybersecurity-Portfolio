{
 "cells": [
  {
   "cell_type": "markdown",
   "id": "84294053",
   "metadata": {},
   "source": [
    "# Detect Web Application Vulnerabilities\n",
    "\n",
    "A Cyber Security Specialist needs to conduct regular scans on devices connected to the network to determine if these devices are still compliant and detect any vulnerabilities. \n",
    "\n",
    "In this lab, the network will be scanned for available hosts and determine if any hosts have possible vulnerabilities.\n",
    "\n",
    "### Tools used in this lab are:\n",
    "\n",
    "- Scan the Network for Available Hosts using Nmap\n",
    "- Scan Detected Hosts for Vulnerabilities with Nikto\n",
    "- Scan Detected Hosts for Vulnerabilities with OWASP ZAP\n",
    "- Scan Detected Hosts for Vulnerabilities with Metasploit and Nmap\n",
    "\n",
    "\n"
   ]
  }
 ],
 "metadata": {
  "language_info": {
   "name": "python"
  }
 },
 "nbformat": 4,
 "nbformat_minor": 5
}
