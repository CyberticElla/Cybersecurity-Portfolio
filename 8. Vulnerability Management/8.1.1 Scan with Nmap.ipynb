{
 "cells": [
  {
   "cell_type": "markdown",
   "id": "c94a5661",
   "metadata": {},
   "source": [
    "## Scan the Network for Available Hosts using Nmap\n",
    "\n",
    "The Nmap application can be used to scan available hosts in the network. First go to the XAMPP Control Panel from the XAMPP menu and start up the following services:\n",
    "\n",
    "- Apache\n",
    "- MySQL\n",
    "\n",
    "![xampp](xampp.png)\n",
    "\n",
    "Note that a vulnerable web server has been configured on the ACIDM01 machine. It will be scanned to determine the exposed ports and vulnerabilities.\n",
    "\n",
    "In Kali Linux terminal, enter ifconfig eth0 to display the device's IP address and subnet mask. This information will be used to scan the network for connected devices.\n",
    "\n",
    "![ifconfig](ifconfig.png)\n",
    "\n",
    "Enter sudo nmap -sn 192.168.0.0/24 to display all the active devices connected to the specified subnet. The detected devices can be scanned individually to detect open ports and running services. From the results, we see that six devices with their associated IP addresses have been detected.\n",
    "\n",
    "![nmap](nmap1.png)\n",
    "\n",
    "Enter sudo nmap -Pn 192.168.0.1 to display the open ports and services running on the device. From the open ports, the device's functionality can be determined. Unnecessary open ports that were detected can also be closed to ensure the device is secure.\n",
    "\n",
    "![nmap](nmap2.png)\n",
    "\n",
    "Enter sudo nmap -Pn 192.168.0.2 to display the open ports on the device. From the results, we see that Port 80 is open, which might indicate that the device is a web server.\n",
    "\n",
    "![nmap](nmap3.png)\n",
    "\n",
    "Enter sudo nmap -Pn 192.168.0.4 again, to display the open ports on the device.\n",
    "\n",
    "![nmap](nmap4.png)"
   ]
  }
 ],
 "metadata": {
  "language_info": {
   "name": "python"
  }
 },
 "nbformat": 4,
 "nbformat_minor": 5
}
