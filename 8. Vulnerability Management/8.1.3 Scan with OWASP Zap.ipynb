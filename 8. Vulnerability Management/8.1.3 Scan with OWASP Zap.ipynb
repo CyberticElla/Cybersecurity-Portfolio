{
 "cells": [
  {
   "cell_type": "markdown",
   "id": "9242fe70",
   "metadata": {},
   "source": [
    "## Scan Detected Hosts for Vulnerabilities with OWASP ZAP\n",
    "\n",
    "The OWASP ZAP application was designed to scan web servers to detect vulnerabilities. The OWASP ZAP application will be used to scan the detected hosts for vulnerabilities.\n",
    "\n",
    "In Kali Linux, select Zap in the Web Applications Analysis menu. \n",
    "\n",
    "![zap.png](zap1.png)\n",
    "\n",
    "Click Automated Scan in the Welcome to OWASP ZAP pane.\n",
    "\n",
    "![zap.png](zap2.png)\n",
    "\n",
    "On the Automated Scan pane, configure the following fields:\n",
    "- Tick the Use ajax spider checkbox.\n",
    "- Enter the following in the URL to attack field: http://192.168.0.2/bwapp\n",
    "- Click Attack.\n",
    "\n",
    "![zap.png](zap3.png)\n",
    "\n",
    "The OWASP ZAP application will scan the web server for possible vulnerabilities.\n",
    "\n",
    "![zap.png](zap4.png)\n",
    "\n",
    "Click Alerts in the bottom pane.\n",
    "\n",
    "![zap.png](zap5.png)\n",
    "\n",
    "In the Alerts pane, select Absence of Anti-CSRF Tokens (5) in the Alerts drop-down menu.\n",
    "\n",
    "![zap.png](zap6.png)\n",
    "\n",
    "The ZAP application can detect vulnerabilities in a web application. Recall that a vulnerable web application was implemented on the ACIDM01 device. Several vulnerabilities have been discovered, as can be seen in the output. As a Cybersecurity specialist, these results can be used to remediate the vulnerabilities to prevent an attack on the web application."
   ]
  }
 ],
 "metadata": {
  "language_info": {
   "name": "python"
  }
 },
 "nbformat": 4,
 "nbformat_minor": 5
}
