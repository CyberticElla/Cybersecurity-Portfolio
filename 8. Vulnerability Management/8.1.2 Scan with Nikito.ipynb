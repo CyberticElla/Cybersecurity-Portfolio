{
 "cells": [
  {
   "cell_type": "markdown",
   "id": "0359c142",
   "metadata": {},
   "source": [
    "## Scan Detected Hosts for Vulnerabilities with Nikto\n",
    "\n",
    "Enter sudo apt install nikto -y to install the application\n",
    "\n",
    "![nikto](nikto1.png)\n",
    "\n",
    "Enter sudo nikto -h 192.168.0.2 and When prompted, type N and press Enter\n",
    "\n",
    "![nikto](nikto2.png)\n",
    "\n",
    "Notice the version of the Apache server running on the device was detected as 2.4.56. As a security specialist, this information can be used to determine if there are any discovered vulnerabilities for the specific version.\n",
    "\n",
    "Enter sudo nikto -h 192.168.0.4:9000. Since nmap determined that port 9000 was open, in scanning the device with the Nikto application, it was determined that an Apache server is running on a Linux Alma, and the version of the Apache server was detected as 2.4.53\n",
    "\n",
    "![nikto](nikto3.png)\n",
    "\n",
    "Open Firefox ESR from the desktop Toolbar and go to https://httpd.apache.org/security/vulnerabilities_24.html\n",
    "\n",
    "![apache](apache1.png)\n",
    "\n",
    "On the APACHE: HTTP SERVER PROJECT window, scroll down and locate Fixed in Apache HTTP Server 2.4.56 pane.\n",
    "\n",
    "![apache](apache2.png)\n",
    "![apache](apache3.png)\n",
    "\n",
    "The detected and fixed vulnerabilities for the specific version of the Apache server 2.4.56 are displayed. As a  Security specialist, this information can be used to remediate detected vulnerabilities to prevent exploitation of the web server. The Common Vulnerabilities and Exposures (CVEs) associated with the version of the server are also displayed.\n",
    "\n",
    "\n",
    "\n"
   ]
  }
 ],
 "metadata": {
  "language_info": {
   "name": "python"
  }
 },
 "nbformat": 4,
 "nbformat_minor": 5
}
