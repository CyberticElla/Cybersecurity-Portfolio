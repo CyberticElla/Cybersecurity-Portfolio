{
 "cells": [
  {
   "cell_type": "markdown",
   "id": "33fa022c",
   "metadata": {},
   "source": [
    "#  Monitor Devices for Vulnerabilities\n",
    "\n",
    "A Cyber Security Specialist needs to conduct regular scans on devices connected to the network to determine if these devices are still compliant and detect any vulnerabilities.  \n",
    "In this lab, the Wazuh application will be used to monitor devices for vulnerabilities.\n",
    "\n",
    "The following steps are completed in the order presented to set Wazuh up for monitoring activities:\n",
    "\n",
    "- Prepare the SIEM Manager\n",
    "- Verify the SIEM Agent on a Windows Device\n",
    "- Detect Vulnerabilities on a Windows Device\n"
   ]
  },
  {
   "cell_type": "markdown",
   "id": "57532aae",
   "metadata": {},
   "source": [
    "## 1. Prepare the SIEM Manager\n",
    "\n",
    "Wazuh is an open-source security monitoring platform with SIEM capabilities. It is designed to monitor and analyze security events and incidents across the information technology infrastructure, provide real-time threat detection, incident response, and compliance management. The Wazuh Manager has already been installed on ACIALMA machine and is the central hub for collecting and analyzing security-related data."
   ]
  },
  {
   "cell_type": "markdown",
   "id": "38aa36e2",
   "metadata": {},
   "source": [
    "First, open terminal, type sudo systemctl status wazuh-manager and enter to check the status of wazuh manager.\n",
    "\n",
    "![wazuh](wazuh1.png) \n",
    "\n",
    "Observe that the wazuh-manager is inactive and disabled.\n",
    "\n",
    "sudo systemctl start wazuh-manager\n",
    "sudo systemctl status wazuh-manager\n",
    "\n",
    "![wazuh](wazuh2.png)  \n",
    "\n",
    "Observe the wazuh-manager is active (running). It remains disabled, which indicates the service will not start automatically on reboot\n",
    "\n",
    "From the Activities menu in the Taskbar, select Firefox and enter https://192.168.0.4/ in the address bar.\n",
    "Then select Log in on the wazuh log in page.\n",
    "\n",
    "![wazuh](wazuh3.png)  \n",
    "\n",
    "Some checks are done during initialization. The wazuh manager will load when these checks are complete.\n",
    "\n",
    "![wazuh](wazuh4.png)\n",
    "\n",
    "![wazuh](wazuh5.png)\n",
    "\n"
   ]
  },
  {
   "cell_type": "markdown",
   "id": "35b3c656",
   "metadata": {},
   "source": [
    "## 2. Verify the SIEM Agent on a Windows Device\n",
    "\n",
    "While the Wazuh Manager is a hub for data collection, a Wazuh Agent resides on a host and provides data to the Wazuh Manager for analysis. The agent conducts local data collection and enables real-time monitoring, scalability, and context about the machine it resides on.\n",
    "In this task, the Wazuh Agent will be verified on ACIWIN11.\n",
    "\n",
    "In Windows Powershell Administrator mode, type NET START WazuhSvc and press Enter:\n",
    "\n",
    "![wazhu](wazuh6.png)\n",
    "\n",
    "Notice that the wazuh service starts successfully.\n",
    "\n",
    "Click the Start charm and type manage agent. Then Select Manage Agent from the Best match pop-up menu.\n",
    "\n",
    "![wazhu](wazuh7.png)\n",
    "\n",
    "On the Wazuh Agent Manager window, select Manage and then Status.\n",
    "\n",
    "![wazhu](wazuh8.png)\n",
    "\n",
    "Click OK on the Agent Running pop-up window.\n",
    "\n",
    "![wazhu](wazuh9.png)\n",
    "\n",
    "Note: The Wazuh agent was successfully installed on the ACIWIN11 device, enabling the Wazuh application to monitor the device for vulnerabilities.\n"
   ]
  },
  {
   "cell_type": "markdown",
   "id": "c9bdb93e",
   "metadata": {},
   "source": [
    "## 3. Detect Vulnerabilities on a Windows Device\n",
    "\n",
    "Back in the Firefox browser, select Security configuration assessment in the AUDITING AND POLICY MONITORING pane.\n",
    "![wazuh](wazuh10.png)\n",
    "\n",
    "On the Inventory tab, click Select agent.\n",
    "![wazuh](wazuh11.png)\n",
    "\n",
    "Click  on the Explore agent pane.\n",
    "![wazuh](wazuh12.png)\n",
    "\n",
    "Click CIS Microsoft Windows 11 Enterprise Benchmark v1.0.0 on the Inventory tab.\n",
    "![wazuh](wazuh13.png)\n",
    "\n",
    "On the Inventory tab, click Failed in the CIS Microsoft Windows 11 Enterprise Benchmark v1.0.0 pane.\n",
    "![wazuh](wazuh14.png)\n",
    "\n",
    "In the Results field of the Checks pane, select the drop-down menu.\n",
    "![wazuh](wazuh15.png)\n",
    "\n",
    "You can see that thel,. Wazuh SIEM application has detected several possible vulnerable configurations on the ACIWIN11 device. The Cyber Security Specialist can use this to evaluate the results and remediate them according to the company’s policies.\n",
    "\n",
    "![wazuh](wazuh16.png)"
   ]
  }
 ],
 "metadata": {
  "language_info": {
   "name": "python"
  }
 },
 "nbformat": 4,
 "nbformat_minor": 5
}
